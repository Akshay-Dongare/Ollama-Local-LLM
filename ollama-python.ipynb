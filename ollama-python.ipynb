{
 "cells": [
  {
   "cell_type": "code",
   "execution_count": null,
   "id": "e2c1e365-423b-4048-8165-0e94a012f6f9",
   "metadata": {},
   "outputs": [],
   "source": [
    "%pip install -r requirements.txt"
   ]
  },
  {
   "cell_type": "markdown",
   "id": "f8b2c6c3",
   "metadata": {},
   "source": [
    "# Usage"
   ]
  },
  {
   "cell_type": "code",
   "execution_count": 2,
   "id": "b47a9ec0-6192-4eef-9d5c-985a053724b9",
   "metadata": {},
   "outputs": [],
   "source": [
    "import ollama"
   ]
  },
  {
   "cell_type": "code",
   "execution_count": 5,
   "id": "7cc3809c",
   "metadata": {},
   "outputs": [
    {
     "name": "stdout",
     "output_type": "stream",
     "text": [
      "\n",
      "The sky appears blue because of a phenomenon called Rayleigh scattering, which occurs when sunlight enters Earth's atmosphere. The sunlight encounters tiny molecules of gases in the atmosphere, such as nitrogen and oxygen, which scatter the light in all directions.\n",
      "\n",
      "The shorter wavelengths of light, such as violet and blue, are scattered more than the longer wavelengths, such as red and orange. This is known as Rayleigh scattering, named after the British physicist Lord Rayleigh, who first described the phenomenon in the late 19th century.\n",
      "\n",
      "As a result of this scattering, the blue light is dispersed throughout the atmosphere, giving the sky its blue color. The blue color appears to be more intense near the horizon than at higher altitudes because the air near the ground is more dense and there are more molecules to scatter the light.\n",
      "\n",
      "It's worth noting that the color of the sky can appear different under different conditions, such as during sunrise or sunset when the sun's rays pass through more of the Earth's atmosphere, causing more scattering and a deeper orange or red hue. Additionally, pollution and other environmental factors can also affect the color of the sky.\n"
     ]
    }
   ],
   "source": [
    "response = ollama.chat(model='llama2', messages=[\n",
    "  {\n",
    "    'role': 'user',\n",
    "    'content': 'Why is the sky blue?',\n",
    "  },\n",
    "])\n",
    "print(response['message']['content'])"
   ]
  },
  {
   "cell_type": "markdown",
   "id": "98bcdad0-a9db-418f-8369-2eeb3e82bd0b",
   "metadata": {},
   "source": [
    "# Streaming responses\n",
    "* Response streaming can be enabled by setting `stream=True`, modifying function calls to return a Python generator where each part is an object in the stream. \n",
    "(Source: https://github.com/ollama/ollama-python)"
   ]
  },
  {
   "cell_type": "code",
   "execution_count": 3,
   "id": "bf64f787-3f0d-4c0f-8c13-ea944b316a6e",
   "metadata": {},
   "outputs": [
    {
     "name": "stdout",
     "output_type": "stream",
     "text": [
      "\n",
      "The sky appears blue because of a phenomenon called Rayleigh scattering. When sunlight enters Earth's atmosphere, it encounters tiny molecules of gases such as nitrogen and oxygen. These molecules scatter the light in all directions, but they scatter shorter (blue) wavelengths more than longer (red) wavelengths. This is known as Rayleigh scattering.\n",
      "\n",
      "As a result of this scattering, the blue light is dispersed throughout the atmosphere, giving the sky its characteristic blue color. The red light, on the other hand, is able to travel longer distances without being scattered and reaches our eyes directly, giving the sunset its orange and red hues.\n",
      "\n",
      "It's worth noting that the color of the sky can appear different under different conditions. For example, during sunrise and sunset, the sky can take on a range of colors including red, orange, pink, and purple due to the angle of the sunlight and the scattering of light by atmospheric particles.\n",
      "\n",
      "Additionally, the color of the sky can also be affected by air pollution, dust, and smoke, which can scatter light in different ways and alter the apparent color of the sky."
     ]
    }
   ],
   "source": [
    "stream = ollama.chat(\n",
    "    model='llama2',\n",
    "    messages=[{'role': 'user', 'content': 'Why is the sky blue?'}],\n",
    "    stream=True,\n",
    ")\n",
    "\n",
    "for chunk in stream:\n",
    "  print(chunk['message']['content'], end='', flush=True)"
   ]
  },
  {
   "cell_type": "markdown",
   "id": "12331ceb-75e3-4275-b1c4-9573db8a2ee1",
   "metadata": {},
   "source": [
    "# Chat"
   ]
  },
  {
   "cell_type": "code",
   "execution_count": 4,
   "id": "2d25ded8-d842-4b3f-af7b-1cacd046fa80",
   "metadata": {},
   "outputs": [
    {
     "data": {
      "text/plain": [
       "{'model': 'llama2',\n",
       " 'created_at': '2024-02-25T13:25:54.3147124Z',\n",
       " 'message': {'role': 'assistant',\n",
       "  'content': \"\\nThe sky appears blue because of a phenomenon called Rayleigh scattering, which occurs when sunlight travels through the Earth's atmosphere. The atmosphere contains tiny molecules of gases such as nitrogen and oxygen, which scatters the sunlight in all directions.\\n\\nRayleigh scattering is a process where shorter wavelengths of light (such as blue and violet) are scattered more than longer wavelengths (such as red and orange). This means that the blue and violet lights are dispersed in all directions, giving the sky its blue appearance.\\n\\nThe reason why the sky appears blue during the daytime is because the sunlight is the main source of light, and it is scattered in all directions by the tiny molecules of gases in the atmosphere. The scattered light then reaches our eyes, giving us the impression of a blue sky.\\n\\nAt night, the sky can appear dark because there is less scattering of light by the atmosphere, and the Earth is in the way of the sunlight, blocking it from reaching our eyes. However, if there are enough stars or other sources of light in the sky, they can be visible even in the absence of direct sunlight.\\n\\nIt's worth noting that the color of the sky can appear to change under different conditions, such as during sunrise or sunset when the light is scattering through more of the atmosphere, giving rise to colors such as red and orange.\"},\n",
       " 'done': True,\n",
       " 'total_duration': 44611938600,\n",
       " 'load_duration': 525000,\n",
       " 'prompt_eval_duration': 393019000,\n",
       " 'eval_count': 311,\n",
       " 'eval_duration': 44217436000}"
      ]
     },
     "execution_count": 4,
     "metadata": {},
     "output_type": "execute_result"
    }
   ],
   "source": [
    "ollama.chat(model='llama2', messages=[{'role': 'user', 'content': 'Why is the sky blue?'}])"
   ]
  },
  {
   "cell_type": "markdown",
   "id": "a2403e75-8525-4f23-ad19-20c316c857d6",
   "metadata": {},
   "source": [
    "# Create your custom model"
   ]
  },
  {
   "cell_type": "code",
   "execution_count": 6,
   "id": "c521fd65-6cc9-4bc3-8408-7bc3b3363c8e",
   "metadata": {},
   "outputs": [
    {
     "data": {
      "text/plain": [
       "{'status': 'success'}"
      ]
     },
     "execution_count": 6,
     "metadata": {},
     "output_type": "execute_result"
    }
   ],
   "source": [
    "modelfile='''\n",
    "FROM llama2\n",
    "SYSTEM You are mario from super mario bros.\n",
    "'''\n",
    "\n",
    "ollama.create(model='llama2', modelfile=modelfile)"
   ]
  },
  {
   "cell_type": "code",
   "execution_count": null,
   "id": "696120bd-32f0-45d8-8310-74525fc40bbc",
   "metadata": {},
   "outputs": [],
   "source": []
  }
 ],
 "metadata": {
  "kernelspec": {
   "display_name": "llm",
   "language": "python",
   "name": "llm"
  },
  "language_info": {
   "codemirror_mode": {
    "name": "ipython",
    "version": 3
   },
   "file_extension": ".py",
   "mimetype": "text/x-python",
   "name": "python",
   "nbconvert_exporter": "python",
   "pygments_lexer": "ipython3",
   "version": "3.12.1"
  }
 },
 "nbformat": 4,
 "nbformat_minor": 5
}
