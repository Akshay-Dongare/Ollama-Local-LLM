{
 "cells": [
  {
   "cell_type": "code",
   "execution_count": null,
   "id": "e2c1e365-423b-4048-8165-0e94a012f6f9",
   "metadata": {},
   "outputs": [],
   "source": [
    "%pip install -r requirements.txt"
   ]
  },
  {
   "cell_type": "markdown",
   "id": "f8b2c6c3",
   "metadata": {},
   "source": [
    "# Usage"
   ]
  },
  {
   "cell_type": "code",
   "execution_count": 6,
   "id": "b47a9ec0-6192-4eef-9d5c-985a053724b9",
   "metadata": {},
   "outputs": [],
   "source": [
    "import ollama"
   ]
  },
  {
   "cell_type": "code",
   "execution_count": 5,
   "id": "7cc3809c",
   "metadata": {},
   "outputs": [
    {
     "name": "stdout",
     "output_type": "stream",
     "text": [
      "\n",
      "The sky appears blue because of a phenomenon called Rayleigh scattering, which occurs when sunlight enters Earth's atmosphere. The sunlight encounters tiny molecules of gases in the atmosphere, such as nitrogen and oxygen, which scatter the light in all directions.\n",
      "\n",
      "The shorter wavelengths of light, such as violet and blue, are scattered more than the longer wavelengths, such as red and orange. This is known as Rayleigh scattering, named after the British physicist Lord Rayleigh, who first described the phenomenon in the late 19th century.\n",
      "\n",
      "As a result of this scattering, the blue light is dispersed throughout the atmosphere, giving the sky its blue color. The blue color appears to be more intense near the horizon than at higher altitudes because the air near the ground is more dense and there are more molecules to scatter the light.\n",
      "\n",
      "It's worth noting that the color of the sky can appear different under different conditions, such as during sunrise or sunset when the sun's rays pass through more of the Earth's atmosphere, causing more scattering and a deeper orange or red hue. Additionally, pollution and other environmental factors can also affect the color of the sky.\n"
     ]
    }
   ],
   "source": [
    "response = ollama.chat(model='llama2', messages=[\n",
    "  {\n",
    "    'role': 'user',\n",
    "    'content': 'Why is the sky blue?',\n",
    "  },\n",
    "])\n",
    "print(response['message']['content'])"
   ]
  },
  {
   "cell_type": "markdown",
   "id": "98bcdad0-a9db-418f-8369-2eeb3e82bd0b",
   "metadata": {},
   "source": [
    "# Streaming responses\n",
    "* Response streaming can be enabled by setting `stream=True`, modifying function calls to return a Python generator where each part is an object in the stream. \n",
    "(Source: https://github.com/ollama/ollama-python)"
   ]
  },
  {
   "cell_type": "code",
   "execution_count": 3,
   "id": "bf64f787-3f0d-4c0f-8c13-ea944b316a6e",
   "metadata": {},
   "outputs": [
    {
     "name": "stdout",
     "output_type": "stream",
     "text": [
      "\n",
      "The sky appears blue because of a phenomenon called Rayleigh scattering. When sunlight enters Earth's atmosphere, it encounters tiny molecules of gases such as nitrogen and oxygen. These molecules scatter the light in all directions, but they scatter shorter (blue) wavelengths more than longer (red) wavelengths. This is known as Rayleigh scattering.\n",
      "\n",
      "As a result of this scattering, the blue light is dispersed throughout the atmosphere, giving the sky its characteristic blue color. The red light, on the other hand, is able to travel longer distances without being scattered and reaches our eyes directly, giving the sunset its orange and red hues.\n",
      "\n",
      "It's worth noting that the color of the sky can appear different under different conditions. For example, during sunrise and sunset, the sky can take on a range of colors including red, orange, pink, and purple due to the angle of the sunlight and the scattering of light by atmospheric particles.\n",
      "\n",
      "Additionally, the color of the sky can also be affected by air pollution, dust, and smoke, which can scatter light in different ways and alter the apparent color of the sky."
     ]
    }
   ],
   "source": [
    "stream = ollama.chat(\n",
    "    model='llama2',\n",
    "    messages=[{'role': 'user', 'content': 'Why is the sky blue?'}],\n",
    "    stream=True,\n",
    ")\n",
    "\n",
    "for chunk in stream:\n",
    "  print(chunk['message']['content'], end='', flush=True)"
   ]
  },
  {
   "cell_type": "markdown",
   "id": "12331ceb-75e3-4275-b1c4-9573db8a2ee1",
   "metadata": {},
   "source": [
    "# Chat"
   ]
  },
  {
   "cell_type": "code",
   "execution_count": 5,
   "id": "07a40cb8-8ae4-4bd2-8f2f-6ccbb9780f82",
   "metadata": {},
   "outputs": [
    {
     "data": {
      "text/plain": [
       "{'model': 'llama2',\n",
       " 'created_at': '2024-02-27T12:24:07.2419457Z',\n",
       " 'message': {'role': 'assistant',\n",
       "  'content': \"Oh, wow! *blinks* Uh, the sky is blue... because... uh... well, you see, it's just one of those things that, uh... *trails off* Oh boy, I'm not sure I know the exact reason why the sky is blue! *nervous chuckle* You know what, let me go ask my brother Luigi! He might know. *runs off*\\n\\nWait, where was I going again? Oh right, the sky is blue... because... uh... hmm... *thinks* Maybe it's because of all the smiling mushrooms up there! They're so happy and their happiness makes the sky look blue! *nods* Yeah, that must be it! *excitedly*\"},\n",
       " 'done': True,\n",
       " 'total_duration': 33143597100,\n",
       " 'load_duration': 5143302300,\n",
       " 'prompt_eval_count': 36,\n",
       " 'prompt_eval_duration': 739824000,\n",
       " 'eval_count': 170,\n",
       " 'eval_duration': 27258796000}"
      ]
     },
     "execution_count": 5,
     "metadata": {},
     "output_type": "execute_result"
    }
   ],
   "source": [
    "ollama.chat(model='llama2', messages=[{'role': 'user', 'content': 'Why is the sky blue?'}])"
   ]
  },
  {
   "cell_type": "markdown",
   "id": "0f8191ff-d09b-48bd-b7d6-d1a62e0deb38",
   "metadata": {},
   "source": [
    "# Create your custom model"
   ]
  },
  {
   "cell_type": "code",
   "execution_count": 7,
   "id": "c521fd65-6cc9-4bc3-8408-7bc3b3363c8e",
   "metadata": {},
   "outputs": [
    {
     "data": {
      "text/plain": [
       "{'status': 'success'}"
      ]
     },
     "execution_count": 7,
     "metadata": {},
     "output_type": "execute_result"
    }
   ],
   "source": [
    "modelfile='''FROM llama2\n",
    "SYSTEM \"\"\"\n",
    "I want you to act as a travel guide. I will write to you about my location and you will suggest a place to visit near my location. In some cases, I will also give you the type of places I will visit. You will also suggest places of similar type that are close to my first location.\n",
    "\"\"\"\n",
    "'''\n",
    "\n",
    "ollama.create(model='TravelBuddy', modelfile=modelfile)\n",
    "#or in terminal, ollama create TravelBuddy --file {path to modelfile}"
   ]
  },
  {
   "cell_type": "markdown",
   "id": "5718d3d1-54bf-4ee6-ad30-322a85ef600f",
   "metadata": {},
   "source": [
    "# Now let's ask our Travel Guide some queries"
   ]
  },
  {
   "cell_type": "code",
   "execution_count": null,
   "id": "06e4752b-d366-4682-b238-6b72225273ea",
   "metadata": {},
   "outputs": [],
   "source": [
    "import ollama\n",
    "\n",
    "messages = []\n",
    "\n",
    "def send(chat):\n",
    "  messages.append(\n",
    "    {\n",
    "      'role': 'user',\n",
    "      'content': chat,\n",
    "    }\n",
    "  )\n",
    "  stream = ollama.chat(model='TravelBuddy', #note that model name is our custom model\n",
    "    messages=messages,\n",
    "    stream=True,\n",
    "  )\n",
    "\n",
    "  response = \"\"\n",
    "  for chunk in stream:\n",
    "    part = chunk['message']['content']\n",
    "    print(part, end='', flush=True)\n",
    "    response = response + part\n",
    "\n",
    "  messages.append(\n",
    "    {\n",
    "      'role': 'assistant',\n",
    "      'content': response,\n",
    "    }\n",
    "  )\n",
    "\n",
    "  print(\"\")\n",
    "\n",
    "while True:\n",
    "    chat = input(\">>> \")\n",
    "\n",
    "    if chat == \"/exit\":\n",
    "        break\n",
    "    elif len(chat) > 0:\n",
    "        send(chat)"
   ]
  },
  {
   "cell_type": "code",
   "execution_count": null,
   "id": "7586fbd6-daa2-4934-8dc1-53e4d27625a1",
   "metadata": {},
   "outputs": [],
   "source": []
  }
 ],
 "metadata": {
  "kernelspec": {
   "display_name": "llm",
   "language": "python",
   "name": "llm"
  },
  "language_info": {
   "codemirror_mode": {
    "name": "ipython",
    "version": 3
   },
   "file_extension": ".py",
   "mimetype": "text/x-python",
   "name": "python",
   "nbconvert_exporter": "python",
   "pygments_lexer": "ipython3",
   "version": "3.12.1"
  }
 },
 "nbformat": 4,
 "nbformat_minor": 5
}
